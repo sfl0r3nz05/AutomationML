{
 "cells": [
  {
   "cell_type": "code",
   "execution_count": 126,
   "id": "2b10be9e",
   "metadata": {},
   "outputs": [],
   "source": [
    "### Step 1: Import the data\n",
    "import pandas as pd\n",
    "from sklearn.tree import DecisionTreeClassifier\n",
    "from sklearn.model_selection import train_test_split\n",
    "from joblib import dump, load"
   ]
  },
  {
   "cell_type": "code",
   "execution_count": null,
   "id": "c5e8b31a",
   "metadata": {},
   "outputs": [],
   "source": [
    "model = load('music-recommender.joblib')\n",
    "predictions = model2.predict([[21, 1]])\n",
    "predictions"
   ]
  }
 ],
 "metadata": {
  "kernelspec": {
   "display_name": "Python 3",
   "language": "python",
   "name": "python3"
  },
  "language_info": {
   "codemirror_mode": {
    "name": "ipython",
    "version": 3
   },
   "file_extension": ".py",
   "mimetype": "text/x-python",
   "name": "python",
   "nbconvert_exporter": "python",
   "pygments_lexer": "ipython3",
   "version": "3.9.2"
  }
 },
 "nbformat": 4,
 "nbformat_minor": 5
}
