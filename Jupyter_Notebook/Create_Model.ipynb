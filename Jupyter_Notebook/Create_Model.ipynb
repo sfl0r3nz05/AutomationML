{
 "cells": [
  {
   "cell_type": "code",
   "execution_count": null,
   "id": "b8252a43",
   "metadata": {},
   "outputs": [],
   "source": [
    "### Step 1: Import the data\n",
    "import pandas as pd\n",
    "from sklearn.tree import DecisionTreeClassifier\n",
    "from sklearn.model_selection import train_test_split\n",
    "from sklearn.metrics import accuracy_score\n",
    "\n",
    "music_data = pd.read_csv('music.csv')"
   ]
  },
  {
   "cell_type": "code",
   "execution_count": 82,
   "id": "030f67c1",
   "metadata": {},
   "outputs": [],
   "source": [
    "### Step 2: Cleaning the data\n",
    "### In this case it is not necessary to clean the data"
   ]
  },
  {
   "cell_type": "code",
   "execution_count": 83,
   "id": "fa9e514f",
   "metadata": {},
   "outputs": [],
   "source": [
    "### Step 3: - Split the Data into Taining/Test Sets\n",
    "### The rule is that 70% - 80% of the dataset for training 30% - 20% for testing\n",
    "\n",
    "X = music_data.drop(columns=['genre'])\n",
    "Y = music_data['genre']\n",
    "X_train, X_test, Y_train, Y_test = train_test_split(X, Y, test_size=0.2) #Selecting the 20%"
   ]
  },
  {
   "cell_type": "code",
   "execution_count": 84,
   "id": "42d1d00d",
   "metadata": {},
   "outputs": [],
   "source": [
    "### Step 4: - Create a model\n",
    "\n",
    "model = DecisionTreeClassifier()"
   ]
  },
  {
   "cell_type": "code",
   "execution_count": null,
   "id": "475078bf",
   "metadata": {},
   "outputs": [],
   "source": [
    "### Step 5: - Train the model\n",
    "\n",
    "model.fit(X_train,Y_train)"
   ]
  },
  {
   "cell_type": "code",
   "execution_count": 86,
   "id": "b992eb58",
   "metadata": {},
   "outputs": [],
   "source": [
    "### Step 6: - Make predictions\n",
    "\n",
    "predictions = model.predict(X_test)"
   ]
  },
  {
   "cell_type": "code",
   "execution_count": null,
   "id": "5d3ce8bd",
   "metadata": {},
   "outputs": [],
   "source": [
    "### Step 7: - Evaluate and improve\n",
    "\n",
    "score = accuracy_score(Y_test, predictions)\n",
    "score"
   ]
  }
 ],
 "metadata": {
  "kernelspec": {
   "display_name": "Python 3",
   "language": "python",
   "name": "python3"
  },
  "language_info": {
   "codemirror_mode": {
    "name": "ipython",
    "version": 3
   },
   "file_extension": ".py",
   "mimetype": "text/x-python",
   "name": "python",
   "nbconvert_exporter": "python",
   "pygments_lexer": "ipython3",
   "version": "3.6.9"
  }
 },
 "nbformat": 4,
 "nbformat_minor": 5
}
