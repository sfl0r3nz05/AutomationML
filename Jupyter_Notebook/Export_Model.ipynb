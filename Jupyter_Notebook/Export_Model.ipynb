{
 "cells": [
  {
   "cell_type": "code",
   "execution_count": 126,
   "id": "2b10be9e",
   "metadata": {},
   "outputs": [],
   "source": [
    "### Step 1: Import the data\n",
    "import pandas as pd\n",
    "from sklearn.tree import DecisionTreeClassifier\n",
    "from sklearn.model_selection import train_test_split\n",
    "from joblib import dump, load\n",
    "\n",
    "music_data = pd.read_csv('music.csv')"
   ]
  },
  {
   "cell_type": "code",
   "execution_count": 127,
   "id": "c5e8b31a",
   "metadata": {},
   "outputs": [],
   "source": [
    "### Step 2: Cleaning the data\n",
    "### In this case it is not necessary to clean the data"
   ]
  },
  {
   "cell_type": "code",
   "execution_count": 128,
   "id": "a4d53371",
   "metadata": {},
   "outputs": [],
   "source": [
    "### Step 3: - Split the Data into Taining/Test Sets\n",
    "### The rule is that 70% - 80% of the dataset for training 30% - 20% for testing\n",
    "\n",
    "X = music_data.drop(columns=['genre'])\n",
    "Y = music_data['genre']\n",
    "X_train, X_test, Y_train, Y_test = train_test_split(X, Y, test_size=0.2) #Selecting the 20%"
   ]
  },
  {
   "cell_type": "code",
   "execution_count": 129,
   "id": "7b54bb80",
   "metadata": {},
   "outputs": [],
   "source": [
    "### Step 4: - Create a model\n",
    "\n",
    "model = DecisionTreeClassifier()"
   ]
  },
  {
   "cell_type": "code",
   "execution_count": null,
   "id": "e859a009",
   "metadata": {},
   "outputs": [],
   "source": [
    "### Step 5: - Train the model\n",
    "model.fit(X_train,Y_train)"
   ]
  },
  {
   "cell_type": "code",
   "execution_count": null,
   "id": "3332ac16",
   "metadata": {},
   "outputs": [],
   "source": [
    "### Step 6: - Export the model\n",
    "dump(model, 'music-recommender.joblib')"
   ]
  }
 ],
 "metadata": {
  "kernelspec": {
   "display_name": "Python 3",
   "language": "python",
   "name": "python3"
  },
  "language_info": {
   "codemirror_mode": {
    "name": "ipython",
    "version": 3
   },
   "file_extension": ".py",
   "mimetype": "text/x-python",
   "name": "python",
   "nbconvert_exporter": "python",
   "pygments_lexer": "ipython3",
   "version": "3.9.2"
  }
 },
 "nbformat": 4,
 "nbformat_minor": 5
}
